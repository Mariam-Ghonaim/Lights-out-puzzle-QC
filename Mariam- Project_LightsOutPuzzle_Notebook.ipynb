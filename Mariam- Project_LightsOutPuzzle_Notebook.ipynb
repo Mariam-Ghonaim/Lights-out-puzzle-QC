{
 "cells": [
  {
   "cell_type": "markdown",
   "metadata": {},
   "source": [
    "<h1><center>Solving the Lights Out Puzzle Using Grover's Algorithm</center></h1>\n",
    "<h2><center>Course Project</center></h2>\n",
    "<h3><center>CIE470</center></h3>\n",
    "<h3><center>Introduction to Quantum Information and Computation</center></h3>"
   ]
  },
  {
   "cell_type": "markdown",
   "metadata": {},
   "source": [
    "## Problem description: \n",
    "The Puzzle consists of an NxN grid of bulbs, where each bulb occupied a cell on the grid, and has its own switch, which when pressed switches the state of the bulb between \"on <----> off\". The grid starts off in an initial state of on-&-off bulbs, and you need to find the sequence of switch presses that would \"turn off all the lights\", hence the name, \"Lights-Out-Puzzle\".  \n"
   ]
  },
  {
   "cell_type": "markdown",
   "metadata": {},
   "source": [
    "Consider the initial state in the picture attached in the file, with yellow meaning the coresponding bulb is on, this is the setup we will have to solve for. This corresponds to initial state :[0, 1, 1, 0, 0, 1, 1, 0, 0]"
   ]
  },
  {
   "cell_type": "markdown",
   "metadata": {},
   "source": [
    "then your goal is to find the new state of the switches (either to leave it in the same initial state, 0, or flip the switch,1)"
   ]
  },
  {
   "cell_type": "code",
   "execution_count": 49,
   "metadata": {},
   "outputs": [],
   "source": [
    "lights = [0, 1, 1, 0, 0, 1, 1, 0, 0] ## this is our variable holding the initial bulb states"
   ]
  },
  {
   "cell_type": "markdown",
   "metadata": {},
   "source": [
    "## Steps:"
   ]
  },
  {
   "cell_type": "markdown",
   "metadata": {},
   "source": [
    "#### A. Register Preparation: we need to setup the quantum and classical registers for the problem, which involves using 3 main quantum-registers and a classical-register.\n",
    "\n",
    "1. A register to hold the solution space of switch-states, since the solution to the problem is a set of 9 on/off(binary system) switches (we have a 3x3 grid of bulbs), call this register \"switch/var\".\n",
    "NB: remember a switch can be on or off (binary, and we can only flip a switch once), we therefore have $2^9$ possible states forming our state-space of possible solutions, a perfect candidate for mapping to a 9-qubit system.\n",
    "2. A control register which will carry temporary info about the state of the bulbs (bulb-states), and be used to determine if a given switch-state is a solution, call it \"bulb/ctrl\"\n",
    "3. An output qubit which will initiate a phase kickback if the control register (representing the bulb-states) reflects that a given switch-state is a solution.\n",
    "4. A classical register to store the measurements.  \n",
    "\n",
    "#### B. State initialization for our specific problem:\n",
    "To initilaize the circuit to map to our specific initial state to the register.\n",
    "\n",
    "#### C. Construct the problem Oracle:\n",
    "To construct an oracle that would assign a negative phase to the solution state.  \n",
    "\n",
    "#### D. Construct the Diffuser\n",
    " \n",
    "#### E. Construct the Grover-Circuit over the appropriate number of iterations\n",
    "\n",
    "#### F. Run the completed Grover-Circuit & Use the measurement to obtain the solution, which corresponds to the most probable state\n",
    "\n"
   ]
  },
  {
   "cell_type": "markdown",
   "metadata": {},
   "source": [
    "## Solution: \n",
    "\n",
    "### IMPORTANT:   \n",
    "#### You need to Place the appropriate code in front of the Question cells, please adjust your code so that it fits this framework, no other solution steps will be accepted, if you understood the first phase it should be very easy to follow this framework no matter how you approach the problem."
   ]
  },
  {
   "cell_type": "markdown",
   "metadata": {},
   "source": [
    "### A. Preparing registers before we initiate the states and apply an oracle and a Diffuser:"
   ]
  },
  {
   "cell_type": "markdown",
   "metadata": {},
   "source": [
    "#### Hint: your register will need 19 Qubits"
   ]
  },
  {
   "cell_type": "markdown",
   "metadata": {},
   "source": [
    "### Q1: Register preparation :"
   ]
  },
  {
   "cell_type": "code",
   "execution_count": 84,
   "metadata": {},
   "outputs": [
    {
     "name": "stdout",
     "output_type": "stream",
     "text": [
      "Requirement already satisfied: qiskit-aer in c:\\users\\maria\\appdata\\local\\programs\\python\\python39\\lib\\site-packages (0.11.2)\n",
      "Requirement already satisfied: scipy>=1.0 in c:\\users\\maria\\appdata\\local\\programs\\python\\python39\\lib\\site-packages (from qiskit-aer) (1.9.0)\n",
      "Requirement already satisfied: qiskit-terra>=0.21.0 in c:\\users\\maria\\appdata\\local\\programs\\python\\python39\\lib\\site-packages (from qiskit-aer) (0.23.0)\n",
      "Requirement already satisfied: numpy>=1.16.3 in c:\\users\\maria\\appdata\\local\\programs\\python\\python39\\lib\\site-packages (from qiskit-aer) (1.23.1)\n",
      "Requirement already satisfied: dill>=0.3 in c:\\users\\maria\\appdata\\local\\programs\\python\\python39\\lib\\site-packages (from qiskit-terra>=0.21.0->qiskit-aer) (0.3.6)\n",
      "Requirement already satisfied: psutil>=5 in c:\\users\\maria\\appdata\\local\\programs\\python\\python39\\lib\\site-packages (from qiskit-terra>=0.21.0->qiskit-aer) (5.9.1)\n",
      "Requirement already satisfied: ply>=3.10 in c:\\users\\maria\\appdata\\local\\programs\\python\\python39\\lib\\site-packages (from qiskit-terra>=0.21.0->qiskit-aer) (3.11)\n",
      "Requirement already satisfied: rustworkx>=0.12.0 in c:\\users\\maria\\appdata\\local\\programs\\python\\python39\\lib\\site-packages (from qiskit-terra>=0.21.0->qiskit-aer) (0.12.1)\n",
      "Requirement already satisfied: stevedore>=3.0.0 in c:\\users\\maria\\appdata\\local\\programs\\python\\python39\\lib\\site-packages (from qiskit-terra>=0.21.0->qiskit-aer) (4.1.1)\n",
      "Requirement already satisfied: sympy>=1.3 in c:\\users\\maria\\appdata\\local\\programs\\python\\python39\\lib\\site-packages (from qiskit-terra>=0.21.0->qiskit-aer) (1.11.1)\n",
      "Requirement already satisfied: python-dateutil>=2.8.0 in c:\\users\\maria\\appdata\\local\\programs\\python\\python39\\lib\\site-packages (from qiskit-terra>=0.21.0->qiskit-aer) (2.8.2)\n",
      "Requirement already satisfied: six>=1.5 in c:\\users\\maria\\appdata\\local\\programs\\python\\python39\\lib\\site-packages (from python-dateutil>=2.8.0->qiskit-terra>=0.21.0->qiskit-aer) (1.16.0)\n",
      "Requirement already satisfied: pbr!=2.1.0,>=2.0.0 in c:\\users\\maria\\appdata\\local\\programs\\python\\python39\\lib\\site-packages (from stevedore>=3.0.0->qiskit-terra>=0.21.0->qiskit-aer) (5.11.1)\n",
      "Requirement already satisfied: mpmath>=0.19 in c:\\users\\maria\\appdata\\local\\programs\\python\\python39\\lib\\site-packages (from sympy>=1.3->qiskit-terra>=0.21.0->qiskit-aer) (1.2.1)\n"
     ]
    },
    {
     "name": "stderr",
     "output_type": "stream",
     "text": [
      "\n",
      "[notice] A new release of pip available: 22.2.2 -> 22.3.1\n",
      "[notice] To update, run: python.exe -m pip install --upgrade pip\n"
     ]
    }
   ],
   "source": [
    "!pip install qiskit-aer\n",
    "from qiskit import *\n",
    "import matplotlib.pyplot as plt\n",
    "import numpy as np\n",
    "\n",
    "# importing Qiskit\n",
    "from qiskit import IBMQ, Aer, assemble, transpile\n",
    "from qiskit import QuantumCircuit, ClassicalRegister, QuantumRegister\n",
    "from qiskit.providers.ibmq import least_busy\n",
    "\n",
    "# import basic plot tools\n",
    "from qiskit.visualization import plot_histogram\n",
    "\n",
    "'''\n",
    "Q1: Register preparation :\n",
    "................................................................................................  \n",
    "................................................................................................  \n",
    "................................................................................................  \n",
    "................................................................................................  \n",
    "................................................................................................  \n",
    "\n",
    " construct the circuit \"qc\" given below by combining 4 inputs consisting of:\n",
    " \n",
    " 3 quantum registers (switch, bulb, output) and a classical register (result) which returns an initial quantum circuit\n",
    "\n",
    "\n",
    "'''\n",
    "switch = QuantumRegister(9, name='s')\n",
    "bulb = QuantumRegister(9, name='b')\n",
    "output = QuantumRegister(1, name='out')\n",
    "result = ClassicalRegister(9, name='result')\n",
    "\n",
    "qc = QuantumCircuit(switch, bulb, output, result) ## a circuit combining all the registers"
   ]
  },
  {
   "cell_type": "markdown",
   "metadata": {},
   "source": [
    "### Iterations:\n",
    "\n",
    "We can always approximate the number of iterations Grover's algorithm needs to reach a solution given the number of winners and the size of our solution state-space, here we have $2^9$ solutions, from which only one is the winner, so describe how many iterations we will need below:"
   ]
  },
  {
   "cell_type": "markdown",
   "metadata": {},
   "source": [
    "### Q2: Iterations can be determined by :\n"
   ]
  },
  {
   "cell_type": "markdown",
   "metadata": {},
   "source": [
    "Q2: Describe how we determine the number of iterations and set the number of iterations for our case:\n",
    "\n",
    "from the documentation of Grever's algorithm, we know that we should set \\theta_t to pi/2 , given that N = 2^n = 2^9\n",
    "\\theta = arcsin(1/sqrt(N)) = 0.044\n",
    "\\theta_t = (2t + 1) \\theta\n",
    "solve for t"
   ]
  },
  {
   "cell_type": "code",
   "execution_count": 51,
   "metadata": {},
   "outputs": [],
   "source": [
    "\n",
    "\n",
    "iterations = 17  ## initialize the iterations variable"
   ]
  },
  {
   "cell_type": "markdown",
   "metadata": {},
   "source": [
    "### B. State initialization for our specific problem:"
   ]
  },
  {
   "cell_type": "markdown",
   "metadata": {},
   "source": [
    "#### Next we need to define a function which\n",
    "A.  maps the initial bulb-state to the bulb register. for example ... initiate a [0, 1, 1, 0, 0, 1, 1, 0, 0] state, which would correspond to [off, on, on, off, off, on, on, off, off]\n",
    "\n",
    "B. initializes the $ \\left| S \\right\\rangle $ state (uniform superposition for the Grover circuit) \n",
    "\n",
    "C. Initializes the state of the Output Qubit which makes it suitable for phase kickback... you should know which state that is"
   ]
  },
  {
   "cell_type": "markdown",
   "metadata": {},
   "source": [
    "### Q3: Circuit initialization for the given lights-out setup :\n",
    "\n",
    "'''  \n",
    "Describe your code for this step:  \n",
    "\n",
    "The code should map the light state to the switch, by using the for loop. Then we make the switches in superposition by applying the H gate so all the solutins could be in superposition. Finally, it initilazes the output register in |-> to get the phase kickback.\n",
    "\n",
    "\n",
    "\n",
    "\n",
    "'''"
   ]
  },
  {
   "cell_type": "code",
   "execution_count": 71,
   "metadata": {},
   "outputs": [],
   "source": [
    "## a function \"initialize\" with takes \"lights\" (the initial bulb-state) \"qc\" (our quantum circuit) \n",
    "## and qr (a temp variable for our register)\n",
    "\n",
    "def initialize(lights, qc, qr):\n",
    "    '''Q3: Circuit initialization'''\n",
    "    ## initialize:\n",
    "    #A\n",
    "    for i in range(9):\n",
    "        if (lights[i]==1):   \n",
    "            qc.x(qr[i])  \n",
    "    \n",
    "    #B\n",
    "    qc.h(switch)\n",
    "            \n",
    "    ## initialize the state of the output qubit for phase kickback\n",
    "    \n",
    "    qc.x(output)\n",
    "    qc.h(output)"
   ]
  },
  {
   "cell_type": "markdown",
   "metadata": {},
   "source": [
    "### C. Construct the problem Oracle:"
   ]
  },
  {
   "cell_type": "markdown",
   "metadata": {},
   "source": [
    "#### The Oracle consists of 2 parts, \n",
    "\n",
    "First, we must define how a switch-state from our solution state-space affects a bulb-state.  \n",
    "For example [111111110] is a switch-state where all switches have been flipped, except the last one. Since we know what switching a flip does we can translate this sequence of switch flips to an effect on a bulb-state.  \n",
    "Accordingly, the first part of the oracle runs a given switch-state yielding a final bulb-state.\n",
    "\n",
    "Second we must define what \"light-state\" constitutes a Winner. By definition, our Winner switch-state is the one which renders `ALL bulb-qubits off`. Therefore, the second part of the oracle needs to extract that piece of information from the \"bulbs\" register, so that in case of finding a winner it could initiate a flip in the output register. This flipping of the output register will in turn initiate a phase-kickback, and we get a negative sign infront of our winner, which is what the oracle does, and we're done.\n"
   ]
  },
  {
   "cell_type": "markdown",
   "metadata": {},
   "source": [
    "### Part 1 of the Oracle:  \n",
    "\n",
    "#### Q4: We need to define a function for the first part of the oracle below, which takes the prepared quantum circuit, some switch state, and the given initial bulb-state, and finally acts on the bulb-state accordingly.\n",
    "\n",
    "#### Hint: you will need a little bit more than 30 gates to achieve this."
   ]
  },
  {
   "cell_type": "markdown",
   "metadata": {},
   "source": [
    "'''    \n",
    "describe what your code does here for this step:  \n",
    "\n",
    "according to the game rules, each switch controls the switch's bulb and the adjacent bulbs. Therefore, switch[0] controls bulbls [0,1,3] and so on for the other bulbs."
   ]
  },
  {
   "cell_type": "code",
   "execution_count": 72,
   "metadata": {},
   "outputs": [],
   "source": [
    "def switch_flip(qc,switch,bulb):\n",
    "    '''\n",
    "    Q4: We need to define a function for the first part of the oracle which translates what\n",
    "    flipping every switch does to the bulb-state\n",
    "    \n",
    "    \n",
    "       \n",
    "    describe what your code does here for this step:  '''\n",
    "    \n",
    "    qc.cx(switch[0], [ bulb[0], bulb[1], bulb[3] ])\n",
    "    qc.cx(switch[1], [ bulb[1], bulb[0], bulb[4], bulb[2] ])\n",
    "    qc.cx(switch[2], [ bulb[2], bulb[1], bulb[5] ])\n",
    "    qc.cx(switch[3], [ bulb[3], bulb[0], bulb[4], bulb[6] ])\n",
    "    qc.cx(switch[4], [ bulb[4], bulb[1], bulb[3], bulb[5], bulb[7] ])\n",
    "    qc.cx(switch[5], [ bulb[5], bulb[2], bulb[4], bulb[8] ])\n",
    "    qc.cx(switch[6], [ bulb[6], bulb[3], bulb[7] ])\n",
    "    qc.cx(switch[7], [ bulb[7], bulb[4], bulb[6], bulb[8] ])\n",
    "    qc.cx(switch[8], [ bulb[8], bulb[5], bulb[7] ])\n",
    "\n",
    "    "
   ]
  },
  {
   "cell_type": "markdown",
   "metadata": {},
   "source": [
    "### Part 2 of the Oracle, then combining steps C, D & E into a function which constructs the second part of the Oracle, the Diffuser & obtain the completed Grover-Circuit over the appropriate number of iterations:"
   ]
  },
  {
   "cell_type": "markdown",
   "metadata": {},
   "source": [
    "#### Q5a: Complete the for loop below which runs our predetermined iterations of Grover.\n",
    "-applies the first part of the oracle (by calling a function)  \n",
    "-applies the second part of the oracle to check for the winner switch-state (Hint: a known gate can do this)  \n",
    "-uncomputes (you should know what that is)  \n",
    "-applies an appropriate diffuser  \n",
    "\n",
    "#### Q5b: finally measure the output\n",
    "Measure the switch-states from which we can infer the most probable answer.\n",
    "\n",
    "NB:  you can use the \"qc.reverse_bits()\" function on a \"qc\"-quantum circuit object to reverse the order of the bits to avoid Qiskit's annoying convention."
   ]
  },
  {
   "cell_type": "markdown",
   "metadata": {},
   "source": [
    "'''    \n",
    "describe what your code does here for these two steps:  \n",
    "\n",
    "1- the code identifies the winner state and appiles a X gate to make it all ones instead of all zeros. \n",
    "2- Apply the multicontroled toffoli gate to mark the state. \n",
    "3- uncompute which means going back to the initail state again. \n",
    "4- the diffuser which is H X mct X H to reach the amplitude amplification.\n",
    "\n",
    "the measurement: I applied the X gate to undo its effect beforehand, however it didn't matter in the result.\n",
    "\n",
    "'''"
   ]
  },
  {
   "cell_type": "code",
   "execution_count": 85,
   "metadata": {},
   "outputs": [
    {
     "data": {
      "text/plain": [
       "<qiskit.circuit.instructionset.InstructionSet at 0x1eda9274370>"
      ]
     },
     "execution_count": 85,
     "metadata": {},
     "output_type": "execute_result"
    }
   ],
   "source": [
    "initialize(lights, qc, bulb)\n",
    "\n",
    "for i in range(iterations):\n",
    "    '''Q5a:'''\n",
    "    '''First part of Oracle'''\n",
    "    switch_flip(qc, switch, bulb)  # our classical function\n",
    "    '''\n",
    "    Multi-qubit controlled gate\n",
    "    '''\n",
    "    qc.x(bulb[:])                ##bcz the winner state is all-zeros, and we need an all-ones state so that the phase kickback can be useful\n",
    "    qc.mct(bulb[:],output[0])\n",
    "    \n",
    "        \n",
    "    '''\n",
    "    uncompute oracle\n",
    "    \n",
    "    '''\n",
    "    switch_flip(qc, switch, bulb)\n",
    "    \n",
    "    \n",
    "    # diffuser\n",
    "    qc.h(switch)\n",
    "    qc.x(switch)\n",
    "    qc.h(8)\n",
    "    qc.mct(switch[0:8], 8)\n",
    "    qc.h(8)\n",
    "    qc.x(switch)\n",
    "    qc.h(switch)\n",
    "\n",
    "\n",
    "\n",
    "# Measure:\n",
    "'''\n",
    "Q5b:\n",
    "measurement\n",
    "    \n",
    "'''\n",
    "qc.x(output[0])\n",
    "qc = qc.reverse_bits()\n",
    "qc.measure(switch,result)\n"
   ]
  },
  {
   "cell_type": "markdown",
   "metadata": {},
   "source": [
    "### F. Run the Grover-Circuit and use the measurement to obtain the solution:"
   ]
  },
  {
   "cell_type": "code",
   "execution_count": 86,
   "metadata": {},
   "outputs": [],
   "source": [
    "## Running the completed Grover's circuit:\n",
    "\n",
    "sim = Aer.get_backend('qasm_simulator')\n",
    "\n",
    "job = execute(qc, backend=sim, shots=1000)\n",
    "result = job.result()\n",
    "count = result.get_counts()"
   ]
  },
  {
   "cell_type": "markdown",
   "metadata": {},
   "source": [
    "### Q6: Extract the solution form the results:"
   ]
  },
  {
   "cell_type": "markdown",
   "metadata": {},
   "source": [
    "'''   \n",
    "Q6  \n",
    "describe what your code does here for this final step, how do we extract the solution form the results:  \n",
    "\n",
    "using python function max, we can get the state with the largest amplitude aka the winner. \n",
    "\n",
    "\n",
    "'''"
   ]
  },
  {
   "cell_type": "code",
   "execution_count": 87,
   "metadata": {},
   "outputs": [
    {
     "name": "stdout",
     "output_type": "stream",
     "text": [
      "111\n",
      "001\n",
      "101\n"
     ]
    }
   ],
   "source": [
    "''' Q6:\n",
    "\n",
    "Code to extract solution\n",
    "\n",
    "'''\n",
    "winner = max(count, key=count.get)\n",
    "print (winner[0:3] + \"\\n\" + winner[3:6] + \"\\n\" + winner[6:9])"
   ]
  },
  {
   "cell_type": "markdown",
   "metadata": {},
   "source": [
    "### Final Remarks: Wrap up your steps, talk briefly about your code and summarize the results and conclusion:  \n",
    "\n",
    "To be honest, I am impressed by the way we could transform this problem into the quantum realem. I was totally stuck not knowing what to do, and probably won't be able to do any progress without this notebook :3\n",
    "However, I guess now I have a sense of what to do and how to approach the problem. First, we need to dentify our classical function to help us identify the winner state. Second, use this classcal function in the oracle and then apply the diffuser which is the difficut part. Finally, apply Grover's algorithm to find the wanted state. \n"
   ]
  },
  {
   "cell_type": "markdown",
   "metadata": {},
   "source": [
    "<h3><center>.........................................................  END .............................................................</center></h3>"
   ]
  }
 ],
 "metadata": {
  "kernelspec": {
   "display_name": "Python 3 (ipykernel)",
   "language": "python",
   "name": "python3"
  },
  "language_info": {
   "codemirror_mode": {
    "name": "ipython",
    "version": 3
   },
   "file_extension": ".py",
   "mimetype": "text/x-python",
   "name": "python",
   "nbconvert_exporter": "python",
   "pygments_lexer": "ipython3",
   "version": "3.9.0"
  }
 },
 "nbformat": 4,
 "nbformat_minor": 4
}
